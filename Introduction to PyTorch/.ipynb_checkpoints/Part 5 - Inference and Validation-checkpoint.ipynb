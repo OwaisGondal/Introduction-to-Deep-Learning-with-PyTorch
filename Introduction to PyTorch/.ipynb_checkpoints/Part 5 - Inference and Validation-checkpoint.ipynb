{
 "cells": [
  {
   "cell_type": "markdown",
   "metadata": {},
   "source": [
    "# Inference and Validation\n",
    "\n",
    "Now that you have a trained network, you can use it for making predictions. This is typically called **inference**, a term borrowed from statistics. However, neural networks have a tendency to perform *too well* on the training data and aren't able to generalize to data that hasn't been seen before. This is called **overfitting** and it impairs inference performance. To test for overfitting while training, we measure the performance on data not in the training set called the **validation** set. We avoid overfitting through regularization such as dropout while monitoring the validation performance during training. In this notebook, I'll show you how to do this in PyTorch. \n",
    "\n",
    "As usual, let's start by loading the dataset through torchvision. You'll learn more about torchvision and loading data in a later part. This time we'll be taking advantage of the test set which you can get by setting `train=False` here:\n",
    "\n",
    "```python\n",
    "testset = datasets.FashionMNIST('~/.pytorch/F_MNIST_data/', download=True, train=False, transform=transform)\n",
    "```\n",
    "\n",
    "The test set contains images just like the training set. Typically you'll see 10-20% of the original dataset held out for testing and validation with the rest being used for training."
   ]
  },
  {
   "cell_type": "code",
   "execution_count": 1,
   "metadata": {
    "ExecuteTime": {
     "end_time": "2020-06-01T02:12:02.881513Z",
     "start_time": "2020-06-01T02:11:54.433537Z"
    }
   },
   "outputs": [],
   "source": [
    "import torch\n",
    "from torchvision import datasets, transforms\n",
    "\n",
    "# Define a transform to normalize the data\n",
    "transform = transforms.Compose([transforms.ToTensor(),\n",
    "                                transforms.Normalize((0.5,), (0.5,))])\n",
    "# Download and load the training data\n",
    "trainset = datasets.FashionMNIST('~/.pytorch/F_MNIST_data/', download=True, train=True, transform=transform)\n",
    "trainloader = torch.utils.data.DataLoader(trainset, batch_size=64, shuffle=True)\n",
    "\n",
    "# Download and load the test data\n",
    "testset = datasets.FashionMNIST('~/.pytorch/F_MNIST_data/', download=True, train=False, transform=transform)\n",
    "testloader = torch.utils.data.DataLoader(testset, batch_size=64, shuffle=True)"
   ]
  },
  {
   "cell_type": "markdown",
   "metadata": {},
   "source": [
    "Here I'll create a model like normal, using the same one from my solution for part 4."
   ]
  },
  {
   "cell_type": "code",
   "execution_count": 4,
   "metadata": {
    "ExecuteTime": {
     "end_time": "2020-06-01T02:12:26.702556Z",
     "start_time": "2020-06-01T02:12:26.690124Z"
    }
   },
   "outputs": [],
   "source": [
    "from torch import nn, optim\n",
    "import torch.nn.functional as F\n",
    "\n",
    "# class Classifier(nn.Module):\n",
    "#     def __init__(self):\n",
    "#         super().__init__()\n",
    "#         self.fc1 = nn.Linear(784, 256)\n",
    "#         self.fc2 = nn.Linear(256, 128)\n",
    "#         self.fc3 = nn.Linear(128, 64)\n",
    "#         self.fc4 = nn.Linear(64, 10)\n",
    "        \n",
    "#     def forward(self, x):\n",
    "#         # make sure input tensor is flattened\n",
    "#         x = x.view(x.shape[0], -1)\n",
    "        \n",
    "#         x = F.relu(self.fc1(x))\n",
    "#         x = F.relu(self.fc2(x))\n",
    "#         x = F.relu(self.fc3(x))\n",
    "#         x = F.log_softmax(self.fc4(x), dim=1)\n",
    "        \n",
    "#         return x"
   ]
  },
  {
   "cell_type": "markdown",
   "metadata": {},
   "source": [
    "The goal of validation is to measure the model's performance on data that isn't part of the training set. Performance here is up to the developer to define though. Typically this is just accuracy, the percentage of classes the network predicted correctly. Other options are [precision and recall](https://en.wikipedia.org/wiki/Precision_and_recall#Definition_(classification_context)) and top-5 error rate. We'll focus on accuracy here. First I'll do a forward pass with one batch from the test set."
   ]
  },
  {
   "cell_type": "code",
   "execution_count": 5,
   "metadata": {
    "ExecuteTime": {
     "end_time": "2020-06-01T02:12:28.682597Z",
     "start_time": "2020-06-01T02:12:27.690666Z"
    }
   },
   "outputs": [
    {
     "name": "stdout",
     "output_type": "stream",
     "text": [
      "torch.Size([64, 10])\n"
     ]
    }
   ],
   "source": [
    "# model = Classifier()\n",
    "model = nn.Sequential(nn.Linear(784, 256),\n",
    "                     nn.ReLU(),\n",
    "                     nn.Linear(256,128),\n",
    "                     nn.ReLU(),\n",
    "                     nn.Linear(128, 64),\n",
    "                     nn.ReLU(),\n",
    "                     nn.Linear(64, 10),\n",
    "                     nn.LogSoftmax(dim=1))\n",
    "# images=images.view(images.shape[0], -1)\n",
    "images, labels = next(iter(testloader))\n",
    "# Get the class probabilities\n",
    "ps = torch.exp(model(images.view(images.shape[0], -1)))\n",
    "# Make sure the shape is appropriate, we should get 10 class probabilities for 64 examples\n",
    "print(ps.shape)"
   ]
  },
  {
   "cell_type": "markdown",
   "metadata": {},
   "source": [
    "With the probabilities, we can get the most likely class using the `ps.topk` method. This returns the $k$ highest values. Since we just want the most likely class, we can use `ps.topk(1)`. This returns a tuple of the top-$k$ values and the top-$k$ indices. If the highest value is the fifth element, we'll get back 4 as the index."
   ]
  },
  {
   "cell_type": "code",
   "execution_count": 6,
   "metadata": {
    "ExecuteTime": {
     "end_time": "2020-06-01T02:12:30.941545Z",
     "start_time": "2020-06-01T02:12:30.625516Z"
    }
   },
   "outputs": [
    {
     "name": "stdout",
     "output_type": "stream",
     "text": [
      "tensor([[3],\n",
      "        [3],\n",
      "        [3],\n",
      "        [3],\n",
      "        [3],\n",
      "        [4],\n",
      "        [3],\n",
      "        [3],\n",
      "        [4],\n",
      "        [4]])\n"
     ]
    }
   ],
   "source": [
    "top_p, top_class = ps.topk(1, dim=1)\n",
    "# Look at the most likely classes for the first 10 examples\n",
    "print(top_class[:10,:])"
   ]
  },
  {
   "cell_type": "markdown",
   "metadata": {},
   "source": [
    "Now we can check if the predicted classes match the labels. This is simple to do by equating `top_class` and `labels`, but we have to be careful of the shapes. Here `top_class` is a 2D tensor with shape `(64, 1)` while `labels` is 1D with shape `(64)`. To get the equality to work out the way we want, `top_class` and `labels` must have the same shape.\n",
    "\n",
    "If we do\n",
    "\n",
    "```python\n",
    "equals = top_class == labels\n",
    "```\n",
    "\n",
    "`equals` will have shape `(64, 64)`, try it yourself. What it's doing is comparing the one element in each row of `top_class` with each element in `labels` which returns 64 True/False boolean values for each row."
   ]
  },
  {
   "cell_type": "code",
   "execution_count": 7,
   "metadata": {
    "ExecuteTime": {
     "end_time": "2020-06-01T02:12:32.282277Z",
     "start_time": "2020-06-01T02:12:32.185697Z"
    }
   },
   "outputs": [
    {
     "name": "stdout",
     "output_type": "stream",
     "text": [
      "tensor([[False],\n",
      "        [ True],\n",
      "        [False],\n",
      "        [ True],\n",
      "        [False],\n",
      "        [False],\n",
      "        [ True],\n",
      "        [False],\n",
      "        [False],\n",
      "        [False],\n",
      "        [False],\n",
      "        [False],\n",
      "        [False],\n",
      "        [False],\n",
      "        [False],\n",
      "        [False],\n",
      "        [False],\n",
      "        [False],\n",
      "        [False],\n",
      "        [False],\n",
      "        [False],\n",
      "        [False],\n",
      "        [False],\n",
      "        [False],\n",
      "        [False],\n",
      "        [False],\n",
      "        [False],\n",
      "        [False],\n",
      "        [False],\n",
      "        [False],\n",
      "        [False],\n",
      "        [False],\n",
      "        [False],\n",
      "        [False],\n",
      "        [False],\n",
      "        [False],\n",
      "        [False],\n",
      "        [False],\n",
      "        [False],\n",
      "        [False],\n",
      "        [False],\n",
      "        [False],\n",
      "        [False],\n",
      "        [False],\n",
      "        [False],\n",
      "        [ True],\n",
      "        [False],\n",
      "        [False],\n",
      "        [False],\n",
      "        [ True],\n",
      "        [False],\n",
      "        [False],\n",
      "        [False],\n",
      "        [False],\n",
      "        [False],\n",
      "        [False],\n",
      "        [False],\n",
      "        [False],\n",
      "        [False],\n",
      "        [False],\n",
      "        [False],\n",
      "        [False],\n",
      "        [False],\n",
      "        [False]])\n"
     ]
    }
   ],
   "source": [
    "equals = top_class == labels.view(*top_class.shape)\n",
    "print(equals)"
   ]
  },
  {
   "cell_type": "markdown",
   "metadata": {},
   "source": [
    "Now we need to calculate the percentage of correct predictions. `equals` has binary values, either 0 or 1. This means that if we just sum up all the values and divide by the number of values, we get the percentage of correct predictions. This is the same operation as taking the mean, so we can get the accuracy with a call to `torch.mean`. If only it was that simple. If you try `torch.mean(equals)`, you'll get an error\n",
    "\n",
    "```\n",
    "RuntimeError: mean is not implemented for type torch.ByteTensor\n",
    "```\n",
    "\n",
    "This happens because `equals` has type `torch.ByteTensor` but `torch.mean` isn't implemented for tensors with that type. So we'll need to convert `equals` to a float tensor. Note that when we take `torch.mean` it returns a scalar tensor, to get the actual value as a float we'll need to do `accuracy.item()`."
   ]
  },
  {
   "cell_type": "code",
   "execution_count": 8,
   "metadata": {
    "ExecuteTime": {
     "end_time": "2020-06-01T02:12:34.204405Z",
     "start_time": "2020-06-01T02:12:33.932096Z"
    }
   },
   "outputs": [
    {
     "name": "stdout",
     "output_type": "stream",
     "text": [
      "Accuracy: 7.8125%\n"
     ]
    }
   ],
   "source": [
    "accuracy = torch.mean(equals.type(torch.FloatTensor))\n",
    "print(f'Accuracy: {accuracy.item()*100}%')"
   ]
  },
  {
   "cell_type": "markdown",
   "metadata": {},
   "source": [
    "The network is untrained so it's making random guesses and we should see an accuracy around 10%. Now let's train our network and include our validation pass so we can measure how well the network is performing on the test set. Since we're not updating our parameters in the validation pass, we can speed up our code by turning off gradients using `torch.no_grad()`:\n",
    "\n",
    "```python\n",
    "# turn off gradients\n",
    "with torch.no_grad():\n",
    "    # validation pass here\n",
    "    for images, labels in testloader:\n",
    "        ...\n",
    "```\n",
    "\n",
    ">**Exercise:** Implement the validation loop below and print out the total accuracy after the loop. You can largely copy and paste the code from above, but I suggest typing it in because writing it out yourself is essential for building the skill. In general you'll always learn more by typing it rather than copy-pasting. You should be able to get an accuracy above 80%."
   ]
  },
  {
   "cell_type": "code",
   "execution_count": 9,
   "metadata": {
    "ExecuteTime": {
     "end_time": "2020-06-01T02:23:03.098213Z",
     "start_time": "2020-06-01T02:12:50.646542Z"
    }
   },
   "outputs": [
    {
     "name": "stdout",
     "output_type": "stream",
     "text": [
      "Epoch: 1/30.. Training loss: 2.143.. Test loss: 1.749.. Test Accuracy: 0.106\n",
      "Epoch: 2/30.. Training loss: 1.248.. Test loss: 0.929.. Test Accuracy: 0.110\n",
      "Epoch: 3/30.. Training loss: 0.804.. Test loss: 0.742.. Test Accuracy: 0.110\n",
      "Epoch: 4/30.. Training loss: 0.684.. Test loss: 0.674.. Test Accuracy: 0.110\n",
      "Epoch: 5/30.. Training loss: 0.623.. Test loss: 0.625.. Test Accuracy: 0.110\n",
      "Epoch: 6/30.. Training loss: 0.581.. Test loss: 0.587.. Test Accuracy: 0.110\n",
      "Epoch: 7/30.. Training loss: 0.550.. Test loss: 0.561.. Test Accuracy: 0.111\n",
      "Epoch: 8/30.. Training loss: 0.524.. Test loss: 0.552.. Test Accuracy: 0.112\n",
      "Epoch: 9/30.. Training loss: 0.504.. Test loss: 0.527.. Test Accuracy: 0.112\n",
      "Epoch: 10/30.. Training loss: 0.488.. Test loss: 0.515.. Test Accuracy: 0.112\n",
      "Epoch: 11/30.. Training loss: 0.475.. Test loss: 0.499.. Test Accuracy: 0.111\n",
      "Epoch: 12/30.. Training loss: 0.463.. Test loss: 0.496.. Test Accuracy: 0.110\n",
      "Epoch: 13/30.. Training loss: 0.454.. Test loss: 0.491.. Test Accuracy: 0.111\n",
      "Epoch: 14/30.. Training loss: 0.445.. Test loss: 0.479.. Test Accuracy: 0.112\n",
      "Epoch: 15/30.. Training loss: 0.438.. Test loss: 0.468.. Test Accuracy: 0.111\n",
      "Epoch: 16/30.. Training loss: 0.430.. Test loss: 0.464.. Test Accuracy: 0.111\n",
      "Epoch: 17/30.. Training loss: 0.423.. Test loss: 0.459.. Test Accuracy: 0.111\n",
      "Epoch: 18/30.. Training loss: 0.417.. Test loss: 0.453.. Test Accuracy: 0.112\n",
      "Epoch: 19/30.. Training loss: 0.411.. Test loss: 0.452.. Test Accuracy: 0.111\n",
      "Epoch: 20/30.. Training loss: 0.406.. Test loss: 0.443.. Test Accuracy: 0.113\n",
      "Epoch: 21/30.. Training loss: 0.400.. Test loss: 0.438.. Test Accuracy: 0.112\n",
      "Epoch: 22/30.. Training loss: 0.395.. Test loss: 0.438.. Test Accuracy: 0.112\n",
      "Epoch: 23/30.. Training loss: 0.390.. Test loss: 0.436.. Test Accuracy: 0.112\n",
      "Epoch: 24/30.. Training loss: 0.386.. Test loss: 0.434.. Test Accuracy: 0.112\n",
      "Epoch: 25/30.. Training loss: 0.381.. Test loss: 0.438.. Test Accuracy: 0.112\n",
      "Epoch: 26/30.. Training loss: 0.377.. Test loss: 0.422.. Test Accuracy: 0.113\n",
      "Epoch: 27/30.. Training loss: 0.372.. Test loss: 0.419.. Test Accuracy: 0.112\n",
      "Epoch: 28/30.. Training loss: 0.368.. Test loss: 0.414.. Test Accuracy: 0.112\n",
      "Epoch: 29/30.. Training loss: 0.364.. Test loss: 0.418.. Test Accuracy: 0.111\n",
      "Epoch: 30/30.. Training loss: 0.361.. Test loss: 0.405.. Test Accuracy: 0.112\n"
     ]
    }
   ],
   "source": [
    "# model = Classifier()\n",
    "criterion = nn.NLLLoss()\n",
    "optimizer = optim.SGD(model.parameters(), lr=0.003)\n",
    "# model = nn.Sequential(nn.Linear(784, 256),\n",
    "#                       nn.ReLU(),\n",
    "#                       nn.Linear(256, 128),\n",
    "#                       nn.ReLU(),\n",
    "#                       nn.Linear(128, 64),\n",
    "#                       nn.ReLU(),\n",
    "#                       nn.Linear(64, 10),\n",
    "#                       nn.LogSoftmax(dim=1))\n",
    "# criterion = nn.NLLLoss()\n",
    "# optimizer=optim.SGD(model.parameters(),lr=0.003)\n",
    "\n",
    "# images=images.view(images.shape[0],-1)\n",
    "\n",
    "epochs = 30\n",
    "steps = 0\n",
    "\n",
    "train_losses, test_losses = [], []\n",
    "for e in range(epochs):\n",
    "    running_loss = 0\n",
    "    for images, labels in trainloader:\n",
    "\n",
    "        optimizer.zero_grad()\n",
    "\n",
    "        log_ps = model(images.view(images.shape[0], -1))\n",
    "        loss = criterion(log_ps, labels)\n",
    "        loss.backward()\n",
    "        optimizer.step()\n",
    "\n",
    "        running_loss += loss.item()\n",
    "\n",
    "    else:\n",
    "        ## TODO: Implement the validation pass and print out the validation accuracy\n",
    "        test_loss=0\n",
    "        accuracy=0\n",
    "        with torch.no_grad():\n",
    "            for images, labels in testloader:\n",
    "                log_ps= model(images.view(images.shape[0], -1))\n",
    "                test_loss+=criterion(log_ps,labels)\n",
    "                \n",
    "                ps=torch.exp(log_ps)\n",
    "                top_p, top_class= ps.topk(1, dim=1)\n",
    "                equals = top_class == labels\n",
    "                accuracy+=torch.mean(equals.type(torch.FloatTensor))\n",
    "                \n",
    "            train_losses.append(running_loss/len(trainloader))\n",
    "            test_losses.append(test_loss/len(testloader))\n",
    "            \n",
    "            \n",
    "            \n",
    "            print(\"Epoch: {}/{}..\".format(e+1,epochs),\n",
    "                  \"Training loss: {:.3f}..\".format(running_loss/len(trainloader)),\n",
    "                  \"Test loss: {:.3f}..\".format(test_loss/len(testloader)),\n",
    "                  \"Test Accuracy: {:.3f}\".format(accuracy/len(testloader)))\n",
    "                \n",
    "                \n",
    "#                 f'Accuracy: {accuracy.item()*100}%')"
   ]
  },
  {
   "cell_type": "code",
   "execution_count": 10,
   "metadata": {
    "ExecuteTime": {
     "end_time": "2020-06-01T02:26:23.522674Z",
     "start_time": "2020-06-01T02:26:22.217899Z"
    }
   },
   "outputs": [],
   "source": [
    "%matplotlib inline\n",
    "%config InlineBackend.figure_format='retina'\n",
    "\n",
    "import matplotlib.pyplot as plt"
   ]
  },
  {
   "cell_type": "code",
   "execution_count": 12,
   "metadata": {
    "ExecuteTime": {
     "end_time": "2020-06-01T02:29:25.894950Z",
     "start_time": "2020-06-01T02:29:25.658939Z"
    }
   },
   "outputs": [
    {
     "data": {
      "text/plain": [
       "<matplotlib.legend.Legend at 0x21ee93cb808>"
      ]
     },
     "execution_count": 12,
     "metadata": {},
     "output_type": "execute_result"
    },
    {
     "data": {
      "image/png": "[encoded data removed]",
      "text/plain": [
       "<Figure size 432x288 with 1 Axes>"
      ]
     },
     "metadata": {
      "image/png": {
       "height": 248,
       "width": 380
      },
      "needs_background": "light"
     },
     "output_type": "display_data"
    }
   ],
   "source": [
    "plt.plot(train_losses,label='Training loss')\n",
    "plt.plot(test_losses,label='Validation loss')\n",
    "plt.legend(frameon=False)"
   ]
  },
  {
   "cell_type": "markdown",
   "metadata": {},
   "source": [
    "## Overfitting\n",
    "\n",
    "If we look at the training and validation losses as we train the network, we can see a phenomenon known as overfitting.\n",
    "\n",
    "<img src='assets/overfitting.png' width=450px>\n",
    "\n",
    "The network learns the training set better and better, resulting in lower training losses. However, it starts having problems generalizing to data outside the training set leading to the validation loss increasing. The ultimate goal of any deep learning model is to make predictions on new data, so we should strive to get the lowest validation loss possible. One option is to use the version of the model with the lowest validation loss, here the one around 8-10 training epochs. This strategy is called *early-stopping*. In practice, you'd save the model frequently as you're training then later choose the model with the lowest validation loss.\n",
    "\n",
    "The most common method to reduce overfitting (outside of early-stopping) is *dropout*, where we randomly drop input units. This forces the network to share information between weights, increasing it's ability to generalize to new data. Adding dropout in PyTorch is straightforward using the [`nn.Dropout`](https://pytorch.org/docs/stable/nn.html#torch.nn.Dropout) module.\n",
    "\n",
    "```python\n",
    "class Classifier(nn.Module):\n",
    "    def __init__(self):\n",
    "        super().__init__()\n",
    "        self.fc1 = nn.Linear(784, 256)\n",
    "        self.fc2 = nn.Linear(256, 128)\n",
    "        self.fc3 = nn.Linear(128, 64)\n",
    "        self.fc4 = nn.Linear(64, 10)\n",
    "        \n",
    "        # Dropout module with 0.2 drop probability\n",
    "        self.dropout = nn.Dropout(p=0.2)\n",
    "        \n",
    "    def forward(self, x):\n",
    "        # make sure input tensor is flattened\n",
    "        x = x.view(x.shape[0], -1)\n",
    "        \n",
    "        # Now with dropout\n",
    "        x = self.dropout(F.relu(self.fc1(x)))\n",
    "        x = self.dropout(F.relu(self.fc2(x)))\n",
    "        x = self.dropout(F.relu(self.fc3(x)))\n",
    "        \n",
    "        # output so no dropout here\n",
    "        x = F.log_softmax(self.fc4(x), dim=1)\n",
    "        \n",
    "        return x\n",
    "```\n",
    "\n",
    "During training we want to use dropout to prevent overfitting, but during inference we want to use the entire network. So, we need to turn off dropout during validation, testing, and whenever we're using the network to make predictions. To do this, you use `model.eval()`. This sets the model to evaluation mode where the dropout probability is 0. You can turn dropout back on by setting the model to train mode with `model.train()`. In general, the pattern for the validation loop will look like this, where you turn off gradients, set the model to evaluation mode, calculate the validation loss and metric, then set the model back to train mode.\n",
    "\n",
    "```python\n",
    "# turn off gradients\n",
    "with torch.no_grad():\n",
    "    \n",
    "    # set model to evaluation mode\n",
    "    model.eval()\n",
    "    \n",
    "    # validation pass here\n",
    "    for images, labels in testloader:\n",
    "        ...\n",
    "\n",
    "# set model back to train mode\n",
    "model.train()\n",
    "```"
   ]
  },
  {
   "cell_type": "markdown",
   "metadata": {},
   "source": [
    "> **Exercise:** Add dropout to your model and train it on Fashion-MNIST again. See if you can get a lower validation loss or higher accuracy."
   ]
  },
  {
   "cell_type": "code",
   "execution_count": 16,
   "metadata": {
    "ExecuteTime": {
     "end_time": "2020-06-01T02:47:29.258649Z",
     "start_time": "2020-06-01T02:47:29.234522Z"
    }
   },
   "outputs": [],
   "source": [
    "## TODO: Define your model with dropout added\n",
    "class Classifier(nn.Module):\n",
    "    def __init__(self):\n",
    "        super().__init__()\n",
    "        self.fc1= nn.Linear(784, 256)\n",
    "        self.fc2=nn.Linear(256,128)\n",
    "        self.fc3=nn.Linear(128, 64)\n",
    "        self.fc4=nn.Linear(64, 10)\n",
    "\n",
    "        self.dropout=nn.Dropout(p=0.2)\n",
    "#         nn.LogSoftmax(dim=1)\n",
    "    def forward(self, x):\n",
    "        # make sure input tensor is flattened\n",
    "        x = x.view(x.shape[0], -1)\n",
    "\n",
    "        # Now with dropout\n",
    "        x = self.dropout(F.relu(self.fc1(x)))\n",
    "        x = self.dropout(F.relu(self.fc2(x)))\n",
    "        x = self.dropout(F.relu(self.fc3(x)))\n",
    "\n",
    "        # output so no dropout here\n",
    "        x = F.log_softmax(self.fc4(x), dim=1)\n",
    "\n",
    "        return x        \n",
    "\n",
    "# class Classifier(nn.Module):\n",
    "#     def __init__(self):\n",
    "#         super().__init__()\n",
    "#         self.fc1 = nn.Linear(784, 256)\n",
    "#         self.fc2 = nn.Linear(256, 128)\n",
    "#         self.fc3 = nn.Linear(128, 64)\n",
    "#         self.fc4 = nn.Linear(64, 10)\n",
    "\n",
    "#         # Dropout module with 0.2 drop probability\n",
    "#         self.dropout = nn.Dropout(p=0.2)\n",
    "\n",
    "#     def forward(self, x):\n",
    "#         # make sure input tensor is flattened\n",
    "#         x = x.view(x.shape[0], -1)\n",
    "\n",
    "#         # Now with dropout\n",
    "#         x = self.dropout(F.relu(self.fc1(x)))\n",
    "#         x = self.dropout(F.relu(self.fc2(x)))\n",
    "#         x = self.dropout(F.relu(self.fc3(x)))\n",
    "\n",
    "#         # output so no dropout here\n",
    "#         x = F.log_softmax(self.fc4(x), dim=1)\n",
    "\n",
    "#         return x"
   ]
  },
  {
   "cell_type": "code",
   "execution_count": 18,
   "metadata": {
    "ExecuteTime": {
     "end_time": "2020-06-01T03:28:18.855062Z",
     "start_time": "2020-06-01T03:13:25.389795Z"
    }
   },
   "outputs": [
    {
     "name": "stdout",
     "output_type": "stream",
     "text": [
      "Epoch: 1/30..  Training Loss: 2.173..  Test Loss: 1.816..  Test Accuracy: 0.300\n",
      "Epoch: 2/30..  Training Loss: 1.482..  Test Loss: 1.057..  Test Accuracy: 0.666\n",
      "Epoch: 3/30..  Training Loss: 1.022..  Test Loss: 0.805..  Test Accuracy: 0.716\n",
      "Epoch: 4/30..  Training Loss: 0.848..  Test Loss: 0.709..  Test Accuracy: 0.739\n",
      "Epoch: 5/30..  Training Loss: 0.768..  Test Loss: 0.659..  Test Accuracy: 0.748\n",
      "Epoch: 6/30..  Training Loss: 0.717..  Test Loss: 0.628..  Test Accuracy: 0.761\n",
      "Epoch: 7/30..  Training Loss: 0.681..  Test Loss: 0.604..  Test Accuracy: 0.774\n",
      "Epoch: 8/30..  Training Loss: 0.653..  Test Loss: 0.583..  Test Accuracy: 0.785\n",
      "Epoch: 9/30..  Training Loss: 0.629..  Test Loss: 0.566..  Test Accuracy: 0.792\n",
      "Epoch: 10/30..  Training Loss: 0.608..  Test Loss: 0.547..  Test Accuracy: 0.801\n",
      "Epoch: 11/30..  Training Loss: 0.590..  Test Loss: 0.535..  Test Accuracy: 0.802\n",
      "Epoch: 12/30..  Training Loss: 0.571..  Test Loss: 0.521..  Test Accuracy: 0.810\n",
      "Epoch: 13/30..  Training Loss: 0.558..  Test Loss: 0.510..  Test Accuracy: 0.812\n",
      "Epoch: 14/30..  Training Loss: 0.546..  Test Loss: 0.504..  Test Accuracy: 0.814\n",
      "Epoch: 15/30..  Training Loss: 0.531..  Test Loss: 0.492..  Test Accuracy: 0.818\n",
      "Epoch: 16/30..  Training Loss: 0.519..  Test Loss: 0.484..  Test Accuracy: 0.822\n",
      "Epoch: 17/30..  Training Loss: 0.512..  Test Loss: 0.475..  Test Accuracy: 0.825\n",
      "Epoch: 18/30..  Training Loss: 0.501..  Test Loss: 0.472..  Test Accuracy: 0.826\n",
      "Epoch: 19/30..  Training Loss: 0.493..  Test Loss: 0.463..  Test Accuracy: 0.830\n",
      "Epoch: 20/30..  Training Loss: 0.485..  Test Loss: 0.457..  Test Accuracy: 0.831\n",
      "Epoch: 21/30..  Training Loss: 0.478..  Test Loss: 0.451..  Test Accuracy: 0.834\n",
      "Epoch: 22/30..  Training Loss: 0.471..  Test Loss: 0.448..  Test Accuracy: 0.836\n",
      "Epoch: 23/30..  Training Loss: 0.466..  Test Loss: 0.443..  Test Accuracy: 0.837\n",
      "Epoch: 24/30..  Training Loss: 0.457..  Test Loss: 0.440..  Test Accuracy: 0.839\n",
      "Epoch: 25/30..  Training Loss: 0.452..  Test Loss: 0.433..  Test Accuracy: 0.841\n",
      "Epoch: 26/30..  Training Loss: 0.447..  Test Loss: 0.428..  Test Accuracy: 0.843\n",
      "Epoch: 27/30..  Training Loss: 0.442..  Test Loss: 0.426..  Test Accuracy: 0.845\n",
      "Epoch: 28/30..  Training Loss: 0.435..  Test Loss: 0.424..  Test Accuracy: 0.845\n",
      "Epoch: 29/30..  Training Loss: 0.430..  Test Loss: 0.420..  Test Accuracy: 0.844\n",
      "Epoch: 30/30..  Training Loss: 0.427..  Test Loss: 0.418..  Test Accuracy: 0.845\n"
     ]
    }
   ],
   "source": [
    "## TODO: Train your model with dropout, and monitor the training progress with the validation loss and accuracy\n",
    "model = Classifier()\n",
    "criterion = nn.NLLLoss()\n",
    "optimizer = optim.SGD(model.parameters(), lr=0.003)\n",
    "\n",
    "epochs = 30\n",
    "steps = 0\n",
    "\n",
    "train_losses, test_losses = [], []\n",
    "for e in range(epochs):\n",
    "    running_loss = 0\n",
    "    for images, labels in trainloader:\n",
    "        \n",
    "        optimizer.zero_grad()\n",
    "        \n",
    "        log_ps = model(images.view(images.shape[0], -1))\n",
    "        loss = criterion(log_ps, labels)\n",
    "        loss.backward()\n",
    "        optimizer.step()\n",
    "        \n",
    "        running_loss += loss.item()\n",
    "        \n",
    "    else:\n",
    "        test_loss = 0\n",
    "        accuracy = 0\n",
    "        \n",
    "        # Turn off gradients for validation, saves memory and computations\n",
    "        with torch.no_grad():\n",
    "            model.eval()\n",
    "            for images, labels in testloader:\n",
    "                log_ps = model(images.view(images.shape[0], -1))\n",
    "                test_loss += criterion(log_ps, labels)\n",
    "                \n",
    "                ps = torch.exp(log_ps)\n",
    "                top_p, top_class = ps.topk(1, dim=1)\n",
    "                equals = top_class == labels.view(*top_class.shape)\n",
    "                accuracy += torch.mean(equals.type(torch.FloatTensor))\n",
    "        \n",
    "        model.train()\n",
    "        \n",
    "        train_losses.append(running_loss/len(trainloader))\n",
    "        test_losses.append(test_loss/len(testloader))\n",
    "\n",
    "        print(\"Epoch: {}/{}.. \".format(e+1, epochs),\n",
    "              \"Training Loss: {:.3f}.. \".format(train_losses[-1]),\n",
    "              \"Test Loss: {:.3f}.. \".format(test_losses[-1]),\n",
    "              \"Test Accuracy: {:.3f}\".format(accuracy/len(testloader)))"
   ]
  },
  {
   "cell_type": "markdown",
   "metadata": {},
   "source": [
    "## Inference\n",
    "\n",
    "Now that the model is trained, we can use it for inference. We've done this before, but now we need to remember to set the model in inference mode with `model.eval()`. You'll also want to turn off autograd with the `torch.no_grad()` context."
   ]
  },
  {
   "cell_type": "code",
   "execution_count": 55,
   "metadata": {
    "ExecuteTime": {
     "end_time": "2020-06-01T03:30:07.923807Z",
     "start_time": "2020-06-01T03:30:07.594686Z"
    }
   },
   "outputs": [
    {
     "data": {
      "image/png": "[encoded data removed]",
      "text/plain": [
       "<Figure size 432x648 with 2 Axes>"
      ]
     },
     "metadata": {
      "image/png": {
       "height": 216,
       "width": 424
      },
      "needs_background": "light"
     },
     "output_type": "display_data"
    }
   ],
   "source": [
    "# Import helper module (should be in the repo)\n",
    "import helper\n",
    "\n",
    "# Test out your network!\n",
    "\n",
    "model.eval()\n",
    "\n",
    "dataiter = iter(testloader)\n",
    "images, labels = dataiter.next()\n",
    "img = images[0]\n",
    "# Convert 2D image to 1D vector\n",
    "img = img.view(1, 784)\n",
    "\n",
    "# Calculate the class probabilities (softmax) for img\n",
    "with torch.no_grad():\n",
    "    output = model.forward(img)\n",
    "\n",
    "ps = torch.exp(output)\n",
    "\n",
    "# Plot the image and probabilities\n",
    "helper.view_classify(img.view(1, 28, 28), ps, version='Fashion')"
   ]
  },
  {
   "cell_type": "markdown",
   "metadata": {},
   "source": [
    "## Next Up!\n",
    "\n",
    "In the next part, I'll show you how to save your trained models. In general, you won't want to train a model everytime you need it. Instead, you'll train once, save it, then load the model when you want to train more or use if for inference."
   ]
  }
 ],
 "metadata": {
  "kernelspec": {
   "display_name": "Python 3",
   "language": "python",
   "name": "python3"
  },
  "language_info": {
   "codemirror_mode": {
    "name": "ipython",
    "version": 3
   },
   "file_extension": ".py",
   "mimetype": "text/x-python",
   "name": "python",
   "nbconvert_exporter": "python",
   "pygments_lexer": "ipython3",
   "version": "3.7.6"
  },
  "toc": {
   "base_numbering": 1,
   "nav_menu": {},
   "number_sections": true,
   "sideBar": true,
   "skip_h1_title": false,
   "title_cell": "Table of Contents",
   "title_sidebar": "Contents",
   "toc_cell": false,
   "toc_position": {},
   "toc_section_display": true,
   "toc_window_display": false
  },
  "varInspector": {
   "cols": {
    "lenName": 16,
    "lenType": 16,
    "lenVar": 40
   },
   "kernels_config": {
    "python": {
     "delete_cmd_postfix": "",
     "delete_cmd_prefix": "del ",
     "library": "var_list.py",
     "varRefreshCmd": "print(var_dic_list())"
    },
    "r": {
     "delete_cmd_postfix": ") ",
     "delete_cmd_prefix": "rm(",
     "library": "var_list.r",
     "varRefreshCmd": "cat(var_dic_list()) "
    }
   },
   "types_to_exclude": [
    "module",
    "function",
    "builtin_function_or_method",
    "instance",
    "_Feature"
   ],
   "window_display": false
  }
 },
 "nbformat": 4,
 "nbformat_minor": 2
}
