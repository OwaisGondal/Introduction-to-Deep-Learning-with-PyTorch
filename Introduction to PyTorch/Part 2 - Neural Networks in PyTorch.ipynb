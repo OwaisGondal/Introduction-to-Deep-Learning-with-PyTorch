{
 "cells": [
  {
   "cell_type": "markdown",
   "metadata": {},
   "source": [
    "# Neural networks with PyTorch\n",
    "\n",
    "Deep learning networks tend to be massive with dozens or hundreds of layers, that's where the term \"deep\" comes from. You can build one of these deep networks using only weight matrices as we did in the previous notebook, but in general it's very cumbersome and difficult to implement. PyTorch has a nice module `nn` that provides a nice way to efficiently build large neural networks."
   ]
  },
  {
   "cell_type": "code",
   "execution_count": 33,
   "metadata": {
    "ExecuteTime": {
     "end_time": "2020-05-25T12:14:23.671446Z",
     "start_time": "2020-05-25T12:14:23.648474Z"
    }
   },
   "outputs": [],
   "source": [
    "# Import necessary packages\n",
    "\n",
    "%matplotlib inline\n",
    "%config InlineBackend.figure_format = 'retina'\n",
    "\n",
    "import numpy as np\n",
    "import torch\n",
    "\n",
    "import helper\n",
    "\n",
    "import matplotlib.pyplot as plt"
   ]
  },
  {
   "cell_type": "markdown",
   "metadata": {},
   "source": [
    "\n",
    "Now we're going to build a larger network that can solve a (formerly) difficult problem, identifying text in an image. Here we'll use the MNIST dataset which consists of greyscale handwritten digits. Each image is 28x28 pixels, you can see a sample below\n",
    "\n",
    "<img src='assets/mnist.png'>\n",
    "\n",
    "Our goal is to build a neural network that can take one of these images and predict the digit in the image.\n",
    "\n",
    "First up, we need to get our dataset. This is provided through the `torchvision` package. The code below will download the MNIST dataset, then create training and test datasets for us. Don't worry too much about the details here, you'll learn more about this later."
   ]
  },
  {
   "cell_type": "code",
   "execution_count": 13,
   "metadata": {
    "ExecuteTime": {
     "end_time": "2020-05-25T12:13:49.575141Z",
     "start_time": "2020-05-25T12:13:48.092957Z"
    }
   },
   "outputs": [],
   "source": [
    "# Run this cell\n",
    "\n",
    "from torchvision import datasets, transforms\n",
    "\n",
    "# Define a transform to normalize the data\n",
    "transform = transforms.Compose([transforms.ToTensor(),\n",
    "                                transforms.Normalize((0.5,), (0.5,)),\n",
    "                                ])\n",
    "\n",
    "# Download and load the training data\n",
    "trainset = datasets.MNIST('~/.pytorch/MNIST_data/',\n",
    "                          download=True, train=True, transform=transform)\n",
    "trainloader = torch.utils.data.DataLoader(\n",
    "    trainset, batch_size=64, shuffle=True)"
   ]
  },
  {
   "cell_type": "markdown",
   "metadata": {},
   "source": [
    "We have the training data loaded into `trainloader` and we make that an iterator with `iter(trainloader)`. Later, we'll use this to loop through the dataset for training, like\n",
    "\n",
    "```python\n",
    "for image, label in trainloader:\n",
    "    ## do things with images and labels\n",
    "```\n",
    "\n",
    "You'll notice I created the `trainloader` with a batch size of 64, and `shuffle=True`. The batch size is the number of images we get in one iteration from the data loader and pass through our network, often called a *batch*. And `shuffle=True` tells it to shuffle the dataset every time we start going through the data loader again. But here I'm just grabbing the first batch so we can check out the data. We can see below that `images` is just a tensor with size `(64, 1, 28, 28)`. So, 64 images per batch, 1 color channel, and 28x28 images."
   ]
  },
  {
   "cell_type": "code",
   "execution_count": 14,
   "metadata": {
    "ExecuteTime": {
     "end_time": "2020-05-25T12:13:49.623013Z",
     "start_time": "2020-05-25T12:13:49.577135Z"
    }
   },
   "outputs": [
    {
     "name": "stdout",
     "output_type": "stream",
     "text": [
      "<class 'torch.Tensor'>\n",
      "torch.Size([64, 1, 28, 28])\n",
      "torch.Size([64])\n"
     ]
    }
   ],
   "source": [
    "dataiter = iter(trainloader)\n",
    "images, labels = dataiter.next()\n",
    "print(type(images))\n",
    "print(images.shape)\n",
    "print(labels.shape)"
   ]
  },
  {
   "cell_type": "markdown",
   "metadata": {},
   "source": [
    "This is what one of the images looks like. "
   ]
  },
  {
   "cell_type": "code",
   "execution_count": 15,
   "metadata": {
    "ExecuteTime": {
     "end_time": "2020-05-25T12:13:50.146034Z",
     "start_time": "2020-05-25T12:13:49.626005Z"
    }
   },
   "outputs": [
    {
     "data": {
      "image/png": "[encoded data removed]",
      "text/plain": [
       "<Figure size 432x288 with 1 Axes>"
      ]
     },
     "metadata": {
      "image/png": {
       "height": 248,
       "width": 251
      },
      "needs_background": "light"
     },
     "output_type": "display_data"
    }
   ],
   "source": [
    "plt.imshow(images[1].numpy().squeeze(), cmap='Greys_r')"
   ]
  },
  {
   "cell_type": "markdown",
   "metadata": {},
   "source": [
    "First, let's try to build a simple network for this dataset using weight matrices and matrix multiplications. Then, we'll see how to do it using PyTorch's `nn` module which provides a much more convenient and powerful method for defining network architectures.\n",
    "\n",
    "The networks you've seen so far are called *fully-connected* or *dense* networks. Each unit in one layer is connected to each unit in the next layer. In fully-connected networks, the input to each layer must be a one-dimensional vector (which can be stacked into a 2D tensor as a batch of multiple examples). However, our images are 28x28 2D tensors, so we need to convert them into 1D vectors. Thinking about sizes, we need to convert the batch of images with shape `(64, 1, 28, 28)` to a have a shape of `(64, 784)`, 784 is 28 times 28. This is typically called *flattening*, we flattened the 2D images into 1D vectors.\n",
    "\n",
    "Previously you built a network with one output unit. Here we need 10 output units, one for each digit. We want our network to predict the digit shown in an image, so what we'll do is calculate probabilities that the image is of any one digit or class. This ends up being a discrete probability distribution over the classes (digits) that tells us the most likely class for the image. That means we need 10 output units for the 10 classes (digits). We'll see how to convert the network output into a probability distribution next.\n",
    "\n",
    "> **Exercise:** Flatten the batch of images `images`. Then build a multi-layer network with 784 input units, 256 hidden units, and 10 output units using random tensors for the weights and biases. For now, use a sigmoid activation for the hidden layer. Leave the output layer without an activation, we'll add one that gives us a probability distribution next."
   ]
  },
  {
   "cell_type": "code",
   "execution_count": 16,
   "metadata": {
    "ExecuteTime": {
     "end_time": "2020-05-25T12:13:50.162023Z",
     "start_time": "2020-05-25T12:13:50.149028Z"
    }
   },
   "outputs": [],
   "source": [
    "def activation(x):\n",
    "    \"\"\" Sigmoid activation function \n",
    "\n",
    "        Arguments\n",
    "        ---------\n",
    "        x: torch.Tensor\n",
    "    \"\"\"\n",
    "#     print(1/(1+torch.exp(-x)))\n",
    "    return 1/(1+torch.exp(-x))"
   ]
  },
  {
   "cell_type": "code",
   "execution_count": 17,
   "metadata": {
    "ExecuteTime": {
     "end_time": "2020-05-25T12:13:50.411663Z",
     "start_time": "2020-05-25T12:13:50.164985Z"
    }
   },
   "outputs": [
    {
     "name": "stdout",
     "output_type": "stream",
     "text": [
      "torch.Size([64, 1, 28, 28])\n",
      "torch.Size([64, 784])\n",
      "torch.Size([64, 10])\n",
      "tensor([[2.9596e-03, 9.4098e-01, 9.9872e-01, 2.3721e-06, 1.8611e-01, 7.5801e-01,\n",
      "         7.0315e-01, 1.5056e-01, 7.9080e-09, 9.9983e-01],\n",
      "        [1.3545e-02, 1.4203e-01, 9.3006e-01, 6.0670e-09, 9.8884e-01, 5.0407e-06,\n",
      "         1.0000e+00, 2.2996e-02, 9.2612e-04, 9.9997e-01],\n",
      "        [8.2597e-01, 9.9795e-01, 9.5037e-01, 1.4281e-06, 9.9972e-01, 4.5984e-01,\n",
      "         1.0000e+00, 6.6385e-01, 4.0867e-05, 9.2472e-02],\n",
      "        [4.4854e-01, 8.4272e-02, 9.8748e-01, 2.2612e-06, 9.9079e-01, 6.8771e-01,\n",
      "         1.0000e+00, 7.6519e-07, 6.2522e-04, 2.1739e-01],\n",
      "        [3.7681e-01, 5.9749e-01, 9.5668e-01, 7.7405e-04, 8.0317e-01, 7.9076e-04,\n",
      "         1.0000e+00, 9.8834e-01, 1.0226e-02, 9.9743e-01],\n",
      "        [2.8260e-01, 9.8292e-01, 5.6943e-01, 5.8725e-08, 9.9999e-01, 6.8724e-01,\n",
      "         1.0000e+00, 6.2032e-04, 4.3463e-08, 4.9185e-01],\n",
      "        [1.1298e-02, 2.0558e-06, 4.5862e-03, 2.1039e-09, 9.9893e-01, 9.9785e-01,\n",
      "         9.9987e-01, 9.5139e-01, 4.8083e-05, 1.0561e-01],\n",
      "        [6.5785e-03, 2.3252e-01, 9.9999e-01, 3.5477e-10, 1.0000e+00, 4.9361e-02,\n",
      "         9.9657e-01, 9.6357e-01, 2.7871e-03, 3.2699e-01],\n",
      "        [5.7249e-04, 5.8163e-04, 2.3593e-02, 1.1455e-07, 9.1101e-01, 9.9472e-01,\n",
      "         9.1944e-01, 9.8008e-04, 1.8231e-03, 9.4089e-01],\n",
      "        [4.7941e-01, 1.1278e-06, 6.4858e-02, 2.2422e-10, 9.9954e-01, 9.9895e-01,\n",
      "         9.9966e-01, 9.9467e-01, 2.2142e-01, 4.0661e-03],\n",
      "        [2.8023e-02, 9.7973e-01, 9.9996e-01, 7.7978e-09, 9.0344e-01, 1.3507e-01,\n",
      "         1.0000e+00, 2.1992e-03, 2.0642e-03, 9.9262e-01],\n",
      "        [6.8443e-01, 1.4101e-04, 5.0269e-01, 1.9201e-09, 9.9488e-01, 9.9696e-01,\n",
      "         1.0000e+00, 8.6372e-01, 1.8244e-04, 8.9411e-01],\n",
      "        [1.3703e-02, 8.5252e-02, 9.6783e-01, 2.1351e-06, 8.9034e-02, 1.1056e-01,\n",
      "         1.0000e+00, 1.1744e-02, 5.1110e-04, 4.5538e-02],\n",
      "        [9.3852e-01, 1.4554e-08, 9.5170e-01, 1.0668e-08, 1.9128e-01, 9.9980e-01,\n",
      "         9.9997e-01, 9.8479e-01, 4.9252e-02, 2.7750e-01],\n",
      "        [7.6947e-03, 2.8076e-02, 9.9977e-01, 1.5507e-11, 9.9807e-01, 9.6327e-01,\n",
      "         8.9903e-01, 1.5288e-01, 1.1059e-06, 9.8360e-01],\n",
      "        [1.8361e-04, 2.9320e-05, 8.7360e-01, 8.1073e-06, 3.2168e-01, 5.7959e-03,\n",
      "         9.8962e-01, 1.0801e-03, 7.8346e-08, 2.2942e-01],\n",
      "        [1.5958e-05, 7.7833e-01, 9.9952e-01, 8.3323e-06, 9.9872e-01, 9.9184e-01,\n",
      "         9.9520e-01, 1.0225e-02, 1.1011e-05, 3.1289e-01],\n",
      "        [3.2314e-01, 1.5906e-06, 9.5404e-01, 1.4912e-11, 9.9978e-01, 9.9999e-01,\n",
      "         9.9998e-01, 9.9877e-01, 2.9137e-04, 1.6951e-01],\n",
      "        [2.4967e-08, 7.3689e-01, 5.4645e-01, 3.4835e-07, 9.9990e-01, 2.1414e-01,\n",
      "         1.0000e+00, 1.5027e-03, 1.8127e-04, 4.2952e-01],\n",
      "        [1.3929e-01, 2.1012e-03, 9.9999e-01, 6.3050e-08, 9.9996e-01, 9.9994e-01,\n",
      "         9.9522e-01, 1.1431e-02, 5.7601e-05, 5.3383e-01],\n",
      "        [9.9421e-01, 9.6136e-08, 6.4443e-02, 3.7555e-06, 6.7301e-01, 9.9209e-01,\n",
      "         1.0000e+00, 7.8033e-01, 3.6168e-05, 9.9996e-01],\n",
      "        [2.0816e-04, 8.6268e-01, 9.9873e-01, 5.4071e-05, 4.5183e-01, 9.4151e-02,\n",
      "         9.9728e-01, 1.5834e-02, 5.7628e-04, 9.8987e-01],\n",
      "        [4.1939e-01, 9.8953e-01, 1.0000e+00, 2.3520e-09, 9.9732e-01, 8.9705e-03,\n",
      "         9.9979e-01, 6.9139e-01, 2.6092e-09, 5.8515e-01],\n",
      "        [1.4534e-01, 3.3042e-02, 9.9587e-01, 2.1389e-08, 1.0000e+00, 4.0665e-02,\n",
      "         9.9974e-01, 6.9344e-01, 2.0511e-08, 2.4422e-01],\n",
      "        [1.6656e-02, 9.1457e-01, 1.0000e+00, 1.7074e-05, 9.9701e-01, 5.6850e-01,\n",
      "         9.9998e-01, 4.0565e-01, 2.0542e-04, 4.8118e-05],\n",
      "        [2.3807e-01, 9.9977e-01, 8.2617e-01, 2.4682e-07, 9.9628e-01, 8.8355e-01,\n",
      "         1.0000e+00, 1.8664e-01, 4.8551e-06, 9.9724e-01],\n",
      "        [2.1910e-02, 5.3559e-04, 9.9986e-01, 1.1289e-04, 8.8875e-01, 9.9900e-01,\n",
      "         9.9973e-01, 9.8072e-01, 5.1104e-06, 9.4487e-01],\n",
      "        [2.6119e-03, 9.9993e-01, 9.9775e-01, 3.2160e-08, 1.0000e+00, 5.0260e-01,\n",
      "         2.9182e-01, 6.6685e-01, 1.6977e-07, 1.2281e-05],\n",
      "        [1.2197e-02, 2.6436e-01, 9.2127e-01, 5.5476e-07, 1.0000e+00, 5.0685e-02,\n",
      "         9.9995e-01, 1.7375e-01, 1.8137e-12, 2.3812e-04],\n",
      "        [1.8354e-01, 1.4409e-01, 9.6574e-01, 1.0974e-06, 9.9935e-01, 9.9991e-01,\n",
      "         1.0000e+00, 1.1497e-02, 8.1004e-08, 4.9968e-01],\n",
      "        [5.7436e-02, 1.9688e-02, 9.7493e-01, 1.5166e-07, 1.0000e+00, 8.9487e-01,\n",
      "         9.9681e-01, 1.0244e-02, 7.9550e-05, 4.3275e-01],\n",
      "        [8.5314e-01, 2.7575e-01, 1.0000e+00, 5.8151e-10, 7.8766e-01, 1.1378e-03,\n",
      "         1.0000e+00, 2.8606e-04, 1.6095e-05, 9.9991e-01],\n",
      "        [4.0239e-01, 4.8868e-02, 2.0567e-01, 7.6111e-09, 9.5496e-01, 4.8916e-02,\n",
      "         9.9822e-01, 2.8106e-02, 2.4018e-01, 1.7017e-01],\n",
      "        [4.8324e-01, 2.2049e-01, 9.2625e-01, 1.1912e-10, 9.9815e-01, 5.3271e-02,\n",
      "         1.0000e+00, 1.5570e-05, 5.9056e-04, 9.9995e-01],\n",
      "        [8.1004e-01, 3.1619e-01, 3.7487e-02, 4.8502e-07, 9.9724e-01, 9.7614e-01,\n",
      "         1.0000e+00, 8.4100e-01, 3.7959e-04, 9.9919e-01],\n",
      "        [2.1982e-02, 1.7898e-05, 1.3138e-03, 1.7048e-05, 9.8980e-01, 3.8229e-01,\n",
      "         1.0000e+00, 4.6952e-03, 3.3352e-05, 9.9977e-01],\n",
      "        [1.5094e-02, 2.5901e-06, 4.0361e-01, 1.8559e-07, 8.5647e-01, 8.9966e-01,\n",
      "         9.9982e-01, 3.4629e-01, 7.8311e-07, 9.4845e-01],\n",
      "        [1.3430e-01, 1.5935e-07, 2.1881e-04, 4.1324e-11, 9.9957e-01, 9.9735e-01,\n",
      "         9.9950e-01, 3.6673e-01, 1.9870e-03, 9.9527e-01],\n",
      "        [9.6670e-01, 9.1108e-01, 9.7414e-01, 3.4843e-06, 9.9997e-01, 9.9957e-01,\n",
      "         9.9983e-01, 9.6217e-01, 4.1617e-03, 9.8106e-01],\n",
      "        [5.1195e-04, 5.0365e-04, 3.9866e-06, 1.9035e-07, 9.8361e-01, 9.9871e-01,\n",
      "         9.9971e-01, 1.7092e-02, 3.9630e-07, 9.9774e-01],\n",
      "        [2.2677e-02, 1.3700e-01, 9.6107e-01, 1.1580e-08, 9.9996e-01, 1.4930e-06,\n",
      "         1.0000e+00, 9.8437e-04, 5.0191e-05, 2.9838e-03],\n",
      "        [6.9514e-04, 3.0280e-05, 9.9753e-01, 3.6100e-06, 9.9989e-01, 9.3384e-01,\n",
      "         9.9363e-01, 5.9779e-01, 9.5049e-01, 1.0000e+00],\n",
      "        [1.0425e-03, 3.1731e-02, 1.0000e+00, 1.7266e-04, 9.9994e-01, 9.9934e-01,\n",
      "         9.7727e-01, 1.5492e-02, 2.9957e-03, 9.9802e-01],\n",
      "        [1.2503e-02, 9.9496e-01, 9.5768e-01, 2.1746e-10, 9.9998e-01, 4.4616e-01,\n",
      "         7.5731e-01, 4.7375e-03, 2.9902e-08, 7.8564e-01],\n",
      "        [6.3554e-05, 8.8800e-01, 9.9926e-01, 1.7033e-04, 9.1575e-02, 2.6168e-04,\n",
      "         9.9947e-01, 2.8230e-04, 1.2390e-04, 9.5373e-01],\n",
      "        [4.5035e-02, 8.9607e-02, 4.7791e-02, 6.7202e-09, 9.2882e-01, 3.3601e-01,\n",
      "         1.0000e+00, 7.3702e-03, 2.6909e-07, 8.3718e-01],\n",
      "        [1.3601e-01, 8.8047e-03, 8.0365e-01, 7.0655e-06, 9.5992e-01, 9.8109e-01,\n",
      "         9.9999e-01, 2.0548e-01, 2.1286e-05, 9.9998e-01],\n",
      "        [4.3624e-03, 2.4266e-02, 3.8361e-02, 6.7170e-05, 9.7251e-01, 2.6056e-02,\n",
      "         9.9761e-01, 6.7527e-03, 9.1075e-02, 9.9785e-01],\n",
      "        [9.2518e-01, 1.4522e-03, 1.2263e-01, 6.6658e-06, 1.0000e+00, 8.9123e-05,\n",
      "         1.0000e+00, 4.5725e-02, 4.0675e-06, 5.5592e-01],\n",
      "        [1.8634e-01, 2.0866e-01, 5.4242e-02, 6.4954e-10, 1.0000e+00, 8.0728e-01,\n",
      "         9.9995e-01, 3.9508e-03, 1.2504e-01, 6.8090e-02],\n",
      "        [3.8880e-02, 6.6135e-04, 9.1970e-01, 2.0202e-06, 1.0000e+00, 9.4376e-01,\n",
      "         8.6218e-01, 1.4646e-03, 1.5836e-03, 1.9671e-03],\n",
      "        [5.8752e-05, 1.7792e-03, 9.9718e-01, 2.1120e-05, 9.5630e-01, 9.3785e-01,\n",
      "         9.9332e-01, 2.8419e-01, 3.9480e-04, 9.9977e-01],\n",
      "        [9.4866e-01, 7.4358e-01, 1.0000e+00, 2.4392e-09, 9.9988e-01, 4.0510e-01,\n",
      "         9.9790e-01, 1.2829e-03, 8.2866e-10, 2.5860e-02],\n",
      "        [4.0578e-02, 1.4335e-03, 8.8933e-01, 1.4332e-06, 9.9467e-01, 9.9731e-01,\n",
      "         1.0000e+00, 8.4131e-01, 3.4273e-01, 9.8282e-01],\n",
      "        [4.1752e-03, 1.0874e-03, 9.5415e-01, 3.5443e-09, 9.9982e-01, 9.8544e-01,\n",
      "         9.9995e-01, 5.1721e-01, 6.0441e-05, 7.3556e-02],\n",
      "        [1.3706e-03, 4.2216e-01, 1.0000e+00, 1.5775e-05, 9.5190e-01, 1.5843e-01,\n",
      "         1.0000e+00, 1.4592e-01, 6.5812e-03, 1.1938e-02],\n",
      "        [8.1600e-02, 7.4674e-04, 3.4820e-02, 1.2126e-06, 9.7153e-01, 3.8614e-01,\n",
      "         1.0000e+00, 2.6210e-01, 4.7449e-08, 9.9997e-01],\n",
      "        [3.1774e-02, 9.8422e-01, 5.6379e-03, 3.2388e-08, 9.8774e-01, 9.8636e-01,\n",
      "         9.9977e-01, 9.6819e-01, 4.4860e-05, 4.0108e-02],\n",
      "        [8.6090e-03, 2.7376e-01, 2.2884e-01, 2.8100e-06, 9.9999e-01, 9.3667e-01,\n",
      "         1.0000e+00, 3.9489e-01, 2.3562e-03, 5.1469e-02],\n",
      "        [9.8826e-01, 5.6988e-01, 9.7015e-01, 2.2265e-06, 9.7701e-01, 1.4432e-02,\n",
      "         1.0000e+00, 8.3996e-01, 4.8362e-04, 6.2297e-01],\n",
      "        [2.7075e-01, 2.5489e-01, 9.7840e-01, 7.4100e-03, 9.8904e-01, 8.8445e-01,\n",
      "         9.9999e-01, 9.9969e-01, 8.4833e-09, 1.8593e-04],\n",
      "        [1.3942e-03, 3.3996e-02, 9.4454e-01, 6.7850e-06, 9.9862e-01, 9.6995e-01,\n",
      "         1.0000e+00, 9.7722e-01, 6.3102e-07, 6.3353e-03],\n",
      "        [1.5428e-02, 8.6366e-01, 5.4244e-05, 1.8021e-05, 1.0000e+00, 7.4766e-03,\n",
      "         9.9997e-01, 9.8368e-01, 9.1986e-06, 1.5407e-04],\n",
      "        [5.5049e-04, 3.7943e-02, 6.6405e-01, 1.2561e-07, 9.9963e-01, 7.6496e-01,\n",
      "         9.9471e-01, 6.2826e-01, 7.1343e-07, 4.3596e-01]])\n"
     ]
    }
   ],
   "source": [
    "# Your solution\n",
    "print(np.shape(images))\n",
    "# images.resize_(64,784)\n",
    "\n",
    "features = images.view(images.shape[0], -1)\n",
    "n_input = features.shape[1]\n",
    "n_hidden = 256\n",
    "n_output = 10\n",
    "\n",
    "Weights = torch.randn(n_input, n_hidden)\n",
    "LastWeights = torch.randn(n_hidden, n_output)\n",
    "print(np.shape(features))\n",
    "\n",
    "Biases = torch.randn(1, n_hidden)\n",
    "LastBias = torch.randn(1, n_output)\n",
    "out = activation(torch.mm(activation(torch.mm(features, Weights)+Biases),\n",
    "                          LastWeights)+LastBias)  # output of your network, should have shape (64,10)\n",
    "print(np.shape(out))\n",
    "print(out)"
   ]
  },
  {
   "cell_type": "markdown",
   "metadata": {},
   "source": [
    "Now we have 10 outputs for our network. We want to pass in an image to our network and get out a probability distribution over the classes that tells us the likely class(es) the image belongs to. Something that looks like this:\n",
    "<img src='assets/image_distribution.png' width=500px>\n",
    "\n",
    "Here we see that the probability for each class is roughly the same. This is representing an untrained network, it hasn't seen any data yet so it just returns a uniform distribution with equal probabilities for each class.\n",
    "\n",
    "To calculate this probability distribution, we often use the [**softmax** function](https://en.wikipedia.org/wiki/Softmax_function). Mathematically this looks like\n",
    "\n",
    "$$\n",
    "\\Large \\sigma(x_i) = \\cfrac{e^{x_i}}{\\sum_k^K{e^{x_k}}}\n",
    "$$\n",
    "\n",
    "What this does is squish each input $x_i$ between 0 and 1 and normalizes the values to give you a proper probability distribution where the probabilites sum up to one.\n",
    "\n",
    "> **Exercise:** Implement a function `softmax` that performs the softmax calculation and returns probability distributions for each example in the batch. Note that you'll need to pay attention to the shapes when doing this. If you have a tensor `a` with shape `(64, 10)` and a tensor `b` with shape `(64,)`, doing `a/b` will give you an error because PyTorch will try to do the division across the columns (called broadcasting) but you'll get a size mismatch. The way to think about this is for each of the 64 examples, you only want to divide by one value, the sum in the denominator. So you need `b` to have a shape of `(64, 1)`. This way PyTorch will divide the 10 values in each row of `a` by the one value in each row of `b`. Pay attention to how you take the sum as well. You'll need to define the `dim` keyword in `torch.sum`. Setting `dim=0` takes the sum across the rows while `dim=1` takes the sum across the columns."
   ]
  },
  {
   "cell_type": "code",
   "execution_count": 18,
   "metadata": {
    "ExecuteTime": {
     "end_time": "2020-05-25T12:13:50.507408Z",
     "start_time": "2020-05-25T12:13:50.413657Z"
    }
   },
   "outputs": [
    {
     "name": "stdout",
     "output_type": "stream",
     "text": [
      "torch.Size([64, 10])\n",
      "tensor([1.0000, 1.0000, 1.0000, 1.0000, 1.0000, 1.0000, 1.0000, 1.0000, 1.0000,\n",
      "        1.0000, 1.0000, 1.0000, 1.0000, 1.0000, 1.0000, 1.0000, 1.0000, 1.0000,\n",
      "        1.0000, 1.0000, 1.0000, 1.0000, 1.0000, 1.0000, 1.0000, 1.0000, 1.0000,\n",
      "        1.0000, 1.0000, 1.0000, 1.0000, 1.0000, 1.0000, 1.0000, 1.0000, 1.0000,\n",
      "        1.0000, 1.0000, 1.0000, 1.0000, 1.0000, 1.0000, 1.0000, 1.0000, 1.0000,\n",
      "        1.0000, 1.0000, 1.0000, 1.0000, 1.0000, 1.0000, 1.0000, 1.0000, 1.0000,\n",
      "        1.0000, 1.0000, 1.0000, 1.0000, 1.0000, 1.0000, 1.0000, 1.0000, 1.0000,\n",
      "        1.0000])\n"
     ]
    }
   ],
   "source": [
    "def softmax(x):\n",
    "    # TODO: Implement the softmax function here\n",
    "    return torch.exp(x)/torch.sum(torch.exp(x), dim=1).view(-1, 1)\n",
    "\n",
    "\n",
    "# Here, out should be the output of the network in the previous excercise with shape (64,10)\n",
    "probabilities = softmax(out)\n",
    "\n",
    "# Does it have the right shape? Should be (64, 10)\n",
    "print(probabilities.shape)\n",
    "# Does it sum to 1?\n",
    "print(probabilities.sum(dim=1))"
   ]
  },
  {
   "cell_type": "markdown",
   "metadata": {},
   "source": [
    "## Building networks with PyTorch\n",
    "\n",
    "PyTorch provides a module `nn` that makes building networks much simpler. Here I'll show you how to build the same one as above with 784 inputs, 256 hidden units, 10 output units and a softmax output."
   ]
  },
  {
   "cell_type": "code",
   "execution_count": 19,
   "metadata": {
    "ExecuteTime": {
     "end_time": "2020-05-25T12:13:50.649017Z",
     "start_time": "2020-05-25T12:13:50.511397Z"
    }
   },
   "outputs": [],
   "source": [
    "from torch import nn"
   ]
  },
  {
   "cell_type": "code",
   "execution_count": 20,
   "metadata": {
    "ExecuteTime": {
     "end_time": "2020-05-25T12:13:50.773169Z",
     "start_time": "2020-05-25T12:13:50.653006Z"
    }
   },
   "outputs": [],
   "source": [
    "class Network(nn.Module):\n",
    "    def __init__(self):\n",
    "        super().__init__()\n",
    "\n",
    "        # Inputs to hidden layer linear transformation\n",
    "        self.hidden = nn.Linear(784, 256)\n",
    "        # Output layer, 10 units - one for each digit\n",
    "        self.output = nn.Linear(256, 10)\n",
    "\n",
    "        # Define sigmoid activation and softmax output\n",
    "        self.sigmoid = nn.Sigmoid()\n",
    "        self.softmax = nn.Softmax(dim=1)\n",
    "\n",
    "    def forward(self, x):\n",
    "        # Pass the input tensor through each of our operations\n",
    "        x = self.hidden(x)\n",
    "        x = self.sigmoid(x)\n",
    "        x = self.output(x)\n",
    "        x = self.softmax(x)\n",
    "\n",
    "        return x"
   ]
  },
  {
   "cell_type": "markdown",
   "metadata": {},
   "source": [
    "Let's go through this bit by bit.\n",
    "\n",
    "```python\n",
    "class Network(nn.Module):\n",
    "```\n",
    "\n",
    "Here we're inheriting from `nn.Module`. Combined with `super().__init__()` this creates a class that tracks the architecture and provides a lot of useful methods and attributes. It is mandatory to inherit from `nn.Module` when you're creating a class for your network. The name of the class itself can be anything.\n",
    "\n",
    "```python\n",
    "self.hidden = nn.Linear(784, 256)\n",
    "```\n",
    "\n",
    "This line creates a module for a linear transformation, $x\\mathbf{W} + b$, with 784 inputs and 256 outputs and assigns it to `self.hidden`. The module automatically creates the weight and bias tensors which we'll use in the `forward` method. You can access the weight and bias tensors once the network (`net`) is created with `net.hidden.weight` and `net.hidden.bias`.\n",
    "\n",
    "```python\n",
    "self.output = nn.Linear(256, 10)\n",
    "```\n",
    "\n",
    "Similarly, this creates another linear transformation with 256 inputs and 10 outputs.\n",
    "\n",
    "```python\n",
    "self.sigmoid = nn.Sigmoid()\n",
    "self.softmax = nn.Softmax(dim=1)\n",
    "```\n",
    "\n",
    "Here I defined operations for the sigmoid activation and softmax output. Setting `dim=1` in `nn.Softmax(dim=1)` calculates softmax across the columns.\n",
    "\n",
    "```python\n",
    "def forward(self, x):\n",
    "```\n",
    "\n",
    "PyTorch networks created with `nn.Module` must have a `forward` method defined. It takes in a tensor `x` and passes it through the operations you defined in the `__init__` method.\n",
    "\n",
    "```python\n",
    "x = self.hidden(x)\n",
    "x = self.sigmoid(x)\n",
    "x = self.output(x)\n",
    "x = self.softmax(x)\n",
    "```\n",
    "\n",
    "Here the input tensor `x` is passed through each operation and reassigned to `x`. We can see that the input tensor goes through the hidden layer, then a sigmoid function, then the output layer, and finally the softmax function. It doesn't matter what you name the variables here, as long as the inputs and outputs of the operations match the network architecture you want to build. The order in which you define things in the `__init__` method doesn't matter, but you'll need to sequence the operations correctly in the `forward` method.\n",
    "\n",
    "Now we can create a `Network` object."
   ]
  },
  {
   "cell_type": "code",
   "execution_count": 21,
   "metadata": {
    "ExecuteTime": {
     "end_time": "2020-05-25T12:13:51.038631Z",
     "start_time": "2020-05-25T12:13:50.775163Z"
    }
   },
   "outputs": [
    {
     "data": {
      "text/plain": [
       "Network(\n",
       "  (hidden): Linear(in_features=784, out_features=256, bias=True)\n",
       "  (output): Linear(in_features=256, out_features=10, bias=True)\n",
       "  (sigmoid): Sigmoid()\n",
       "  (softmax): Softmax(dim=1)\n",
       ")"
      ]
     },
     "execution_count": 21,
     "metadata": {},
     "output_type": "execute_result"
    }
   ],
   "source": [
    "# Create the network and look at it's text representation\n",
    "model = Network()\n",
    "model"
   ]
  },
  {
   "cell_type": "markdown",
   "metadata": {},
   "source": [
    "You can define the network somewhat more concisely and clearly using the `torch.nn.functional` module. This is the most common way you'll see networks defined as many operations are simple element-wise functions. We normally import this module as `F`, `import torch.nn.functional as F`."
   ]
  },
  {
   "cell_type": "code",
   "execution_count": 22,
   "metadata": {
    "ExecuteTime": {
     "end_time": "2020-05-25T12:13:51.288349Z",
     "start_time": "2020-05-25T12:13:51.041615Z"
    }
   },
   "outputs": [],
   "source": [
    "import torch.nn.functional as F\n",
    "\n",
    "\n",
    "class Network(nn.Module):\n",
    "    def __init__(self):\n",
    "        super().__init__()\n",
    "        # Inputs to hidden layer linear transformation\n",
    "        self.hidden = nn.Linear(784, 256)\n",
    "        # Output layer, 10 units - one for each digit\n",
    "        self.output = nn.Linear(256, 10)\n",
    "\n",
    "    def forward(self, x):\n",
    "        # Hidden layer with sigmoid activation\n",
    "        x = F.sigmoid(self.hidden(x))\n",
    "        # Output layer with softmax activation\n",
    "        x = F.softmax(self.output(x), dim=1)\n",
    "\n",
    "        return x"
   ]
  },
  {
   "cell_type": "markdown",
   "metadata": {},
   "source": [
    "### Activation functions\n",
    "\n",
    "So far we've only been looking at the sigmoid activation function, but in general any function can be used as an activation function. The only requirement is that for a network to approximate a non-linear function, the activation functions must be non-linear. Here are a few more examples of common activation functions: Tanh (hyperbolic tangent), and ReLU (rectified linear unit).\n",
    "\n",
    "<img src=\"assets/activation.png\" width=700px>\n",
    "\n",
    "In practice, the ReLU function is used almost exclusively as the activation function for hidden layers."
   ]
  },
  {
   "cell_type": "markdown",
   "metadata": {},
   "source": [
    "### Your Turn to Build a Network\n",
    "\n",
    "<img src=\"assets/mlp_mnist.png\" width=600px>\n",
    "\n",
    "> **Exercise:** Create a network with 784 input units, a hidden layer with 128 units and a ReLU activation, then a hidden layer with 64 units and a ReLU activation, and finally an output layer with a softmax activation as shown above. You can use a ReLU activation with the `nn.ReLU` module or `F.relu` function.\n",
    "\n",
    "It's good practice to name your layers by their type of network, for instance 'fc' to represent a fully-connected layer. As you code your solution, use `fc1`, `fc2`, and `fc3` as your layer names."
   ]
  },
  {
   "cell_type": "code",
   "execution_count": 23,
   "metadata": {
    "ExecuteTime": {
     "end_time": "2020-05-25T12:13:51.503320Z",
     "start_time": "2020-05-25T12:13:51.290544Z"
    },
    "scrolled": true
   },
   "outputs": [],
   "source": [
    "import torch.nn.functional as F\n",
    "\n",
    "\n",
    "class Network(nn.Module):\n",
    "    def __init__(self):\n",
    "        super().__init__()\n",
    "        # Inputs to hidden layer linear transformation\n",
    "        self.fc1 = nn.Linear(784, 128)\n",
    "        self.fc2 = nn.Linear(128, 64)\n",
    "        self.fc3 = nn.Linear(64, 10)\n",
    "\n",
    "    def forward(self, x):\n",
    "        # Hidden layer with sigmoid activation\n",
    "        x = self.fc1(x)\n",
    "        x = F.relu(x)\n",
    "        x = self.fc2(x)\n",
    "        x = F.relu(x)\n",
    "        x = self.fc3(x)\n",
    "        x = F.softmax(x, dim=1)\n",
    "        return x"
   ]
  },
  {
   "cell_type": "code",
   "execution_count": 24,
   "metadata": {
    "ExecuteTime": {
     "end_time": "2020-05-25T12:13:51.660890Z",
     "start_time": "2020-05-25T12:13:51.507939Z"
    }
   },
   "outputs": [
    {
     "data": {
      "text/plain": [
       "Network(\n",
       "  (fc1): Linear(in_features=784, out_features=128, bias=True)\n",
       "  (fc2): Linear(in_features=128, out_features=64, bias=True)\n",
       "  (fc3): Linear(in_features=64, out_features=10, bias=True)\n",
       ")"
      ]
     },
     "execution_count": 24,
     "metadata": {},
     "output_type": "execute_result"
    }
   ],
   "source": [
    "model = Network()\n",
    "model"
   ]
  },
  {
   "cell_type": "markdown",
   "metadata": {},
   "source": [
    "### Initializing weights and biases\n",
    "\n",
    "The weights and such are automatically initialized for you, but it's possible to customize how they are initialized. The weights and biases are tensors attached to the layer you defined, you can get them with `model.fc1.weight` for instance."
   ]
  },
  {
   "cell_type": "code",
   "execution_count": 25,
   "metadata": {
    "ExecuteTime": {
     "end_time": "2020-05-25T12:13:51.802406Z",
     "start_time": "2020-05-25T12:13:51.664729Z"
    }
   },
   "outputs": [
    {
     "name": "stdout",
     "output_type": "stream",
     "text": [
      "Parameter containing:\n",
      "tensor([[ 0.0087,  0.0133, -0.0248,  ..., -0.0065,  0.0059,  0.0159],\n",
      "        [ 0.0309, -0.0226, -0.0013,  ..., -0.0063, -0.0226,  0.0273],\n",
      "        [ 0.0075,  0.0210, -0.0155,  ..., -0.0133,  0.0202, -0.0182],\n",
      "        ...,\n",
      "        [-0.0211, -0.0088, -0.0018,  ..., -0.0076,  0.0044, -0.0194],\n",
      "        [-0.0325, -0.0078,  0.0156,  ..., -0.0154,  0.0320,  0.0316],\n",
      "        [ 0.0140,  0.0270,  0.0237,  ..., -0.0143,  0.0274,  0.0355]],\n",
      "       requires_grad=True)\n",
      "Parameter containing:\n",
      "tensor([ 0.0201, -0.0059,  0.0191,  0.0321, -0.0068,  0.0174, -0.0131,  0.0235,\n",
      "        -0.0109, -0.0238,  0.0236, -0.0096, -0.0084,  0.0184,  0.0120,  0.0170,\n",
      "        -0.0159, -0.0348,  0.0146,  0.0335, -0.0075, -0.0344,  0.0151,  0.0215,\n",
      "         0.0222, -0.0205,  0.0237,  0.0158,  0.0292, -0.0141,  0.0227,  0.0335,\n",
      "         0.0178, -0.0307,  0.0241, -0.0253,  0.0132,  0.0047, -0.0088, -0.0075,\n",
      "         0.0185,  0.0160,  0.0085,  0.0152, -0.0079, -0.0167, -0.0247,  0.0081,\n",
      "         0.0116, -0.0074,  0.0038,  0.0346, -0.0190, -0.0096, -0.0291, -0.0004,\n",
      "         0.0127,  0.0183, -0.0177,  0.0184, -0.0217,  0.0195,  0.0135, -0.0320,\n",
      "         0.0088, -0.0163, -0.0120, -0.0035, -0.0331,  0.0165,  0.0272, -0.0016,\n",
      "         0.0236, -0.0252, -0.0287,  0.0245, -0.0169,  0.0237, -0.0333,  0.0353,\n",
      "        -0.0189,  0.0173, -0.0158, -0.0126,  0.0353,  0.0114, -0.0076, -0.0295,\n",
      "        -0.0264,  0.0149,  0.0239,  0.0026, -0.0040,  0.0005,  0.0208,  0.0328,\n",
      "         0.0308,  0.0245, -0.0202,  0.0328,  0.0076, -0.0132,  0.0117,  0.0166,\n",
      "        -0.0291,  0.0267,  0.0293, -0.0095, -0.0033,  0.0334,  0.0126, -0.0159,\n",
      "        -0.0059, -0.0033, -0.0009, -0.0054,  0.0147, -0.0309, -0.0291,  0.0334,\n",
      "         0.0313,  0.0101, -0.0165, -0.0314, -0.0253,  0.0341,  0.0309,  0.0262],\n",
      "       requires_grad=True)\n"
     ]
    }
   ],
   "source": [
    "print(model.fc1.weight)\n",
    "print(model.fc1.bias)"
   ]
  },
  {
   "cell_type": "markdown",
   "metadata": {},
   "source": [
    "For custom initialization, we want to modify these tensors in place. These are actually autograd *Variables*, so we need to get back the actual tensors with `model.fc1.weight.data`. Once we have the tensors, we can fill them with zeros (for biases) or random normal values."
   ]
  },
  {
   "cell_type": "code",
   "execution_count": 26,
   "metadata": {
    "ExecuteTime": {
     "end_time": "2020-05-25T12:13:51.943002Z",
     "start_time": "2020-05-25T12:13:51.805232Z"
    }
   },
   "outputs": [
    {
     "data": {
      "text/plain": [
       "tensor([0., 0., 0., 0., 0., 0., 0., 0., 0., 0., 0., 0., 0., 0., 0., 0., 0., 0., 0., 0., 0., 0., 0., 0.,\n",
       "        0., 0., 0., 0., 0., 0., 0., 0., 0., 0., 0., 0., 0., 0., 0., 0., 0., 0., 0., 0., 0., 0., 0., 0.,\n",
       "        0., 0., 0., 0., 0., 0., 0., 0., 0., 0., 0., 0., 0., 0., 0., 0., 0., 0., 0., 0., 0., 0., 0., 0.,\n",
       "        0., 0., 0., 0., 0., 0., 0., 0., 0., 0., 0., 0., 0., 0., 0., 0., 0., 0., 0., 0., 0., 0., 0., 0.,\n",
       "        0., 0., 0., 0., 0., 0., 0., 0., 0., 0., 0., 0., 0., 0., 0., 0., 0., 0., 0., 0., 0., 0., 0., 0.,\n",
       "        0., 0., 0., 0., 0., 0., 0., 0.])"
      ]
     },
     "execution_count": 26,
     "metadata": {},
     "output_type": "execute_result"
    }
   ],
   "source": [
    "# Set biases to all zeros\n",
    "model.fc1.bias.data.fill_(0)"
   ]
  },
  {
   "cell_type": "code",
   "execution_count": 27,
   "metadata": {
    "ExecuteTime": {
     "end_time": "2020-05-25T12:13:52.067908Z",
     "start_time": "2020-05-25T12:13:51.945997Z"
    }
   },
   "outputs": [
    {
     "data": {
      "text/plain": [
       "tensor([[ 0.0020, -0.0091, -0.0097,  ...,  0.0035, -0.0048,  0.0095],\n",
       "        [-0.0014, -0.0011,  0.0047,  ..., -0.0158,  0.0013, -0.0057],\n",
       "        [-0.0038, -0.0133, -0.0078,  ...,  0.0109,  0.0109,  0.0044],\n",
       "        ...,\n",
       "        [ 0.0005, -0.0025,  0.0129,  ..., -0.0023,  0.0005,  0.0015],\n",
       "        [-0.0098, -0.0108,  0.0109,  ..., -0.0045,  0.0146, -0.0137],\n",
       "        [-0.0114,  0.0143, -0.0078,  ..., -0.0013, -0.0082,  0.0148]])"
      ]
     },
     "execution_count": 27,
     "metadata": {},
     "output_type": "execute_result"
    }
   ],
   "source": [
    "# sample from random normal with standard dev = 0.01\n",
    "model.fc1.weight.data.normal_(std=0.01)"
   ]
  },
  {
   "cell_type": "markdown",
   "metadata": {},
   "source": [
    "### Forward pass\n",
    "\n",
    "Now that we have a network, let's see what happens when we pass in an image."
   ]
  },
  {
   "cell_type": "code",
   "execution_count": 28,
   "metadata": {
    "ExecuteTime": {
     "end_time": "2020-05-25T12:13:52.543345Z",
     "start_time": "2020-05-25T12:13:52.070899Z"
    }
   },
   "outputs": [
    {
     "data": {
      "image/png": "[encoded data removed]",
      "text/plain": [
       "<Figure size 432x648 with 2 Axes>"
      ]
     },
     "metadata": {
      "image/png": {
       "height": 235,
       "width": 424
      },
      "needs_background": "light"
     },
     "output_type": "display_data"
    }
   ],
   "source": [
    "# Grab some data\n",
    "dataiter = iter(trainloader)\n",
    "images, labels = dataiter.next()\n",
    "\n",
    "# Resize images into a 1D vector, new shape is (batch size, color channels, image pixels)\n",
    "images.resize_(64, 1, 784)\n",
    "# or images.resize_(images.shape[0], 1, 784) to automatically get batch size\n",
    "\n",
    "# Forward pass through the network\n",
    "img_idx = 0\n",
    "ps = model.forward(images[img_idx, :])\n",
    "\n",
    "img = images[img_idx]\n",
    "helper.view_classify(img.view(1, 28, 28), ps)"
   ]
  },
  {
   "cell_type": "markdown",
   "metadata": {},
   "source": [
    "As you can see above, our network has basically no idea what this digit is. It's because we haven't trained it yet, all the weights are random!\n",
    "\n",
    "### Using `nn.Sequential`\n",
    "\n",
    "PyTorch provides a convenient way to build networks like this where a tensor is passed sequentially through operations, `nn.Sequential` ([documentation](https://pytorch.org/docs/master/nn.html#torch.nn.Sequential)). Using this to build the equivalent network:"
   ]
  },
  {
   "cell_type": "code",
   "execution_count": 29,
   "metadata": {
    "ExecuteTime": {
     "end_time": "2020-05-25T12:13:52.921374Z",
     "start_time": "2020-05-25T12:13:52.546332Z"
    }
   },
   "outputs": [
    {
     "name": "stdout",
     "output_type": "stream",
     "text": [
      "Sequential(\n",
      "  (0): Linear(in_features=784, out_features=128, bias=True)\n",
      "  (1): ReLU()\n",
      "  (2): Linear(in_features=128, out_features=64, bias=True)\n",
      "  (3): ReLU()\n",
      "  (4): Linear(in_features=64, out_features=10, bias=True)\n",
      "  (5): Softmax(dim=1)\n",
      ")\n"
     ]
    },
    {
     "data": {
      "image/png": "[encoded data removed]",
      "text/plain": [
       "<Figure size 432x648 with 2 Axes>"
      ]
     },
     "metadata": {
      "image/png": {
       "height": 235,
       "width": 424
      },
      "needs_background": "light"
     },
     "output_type": "display_data"
    }
   ],
   "source": [
    "# Hyperparameters for our network\n",
    "input_size = 784\n",
    "hidden_sizes = [128, 64]\n",
    "output_size = 10\n",
    "\n",
    "# Build a feed-forward network\n",
    "model = nn.Sequential(nn.Linear(input_size, hidden_sizes[0]),\n",
    "                      nn.ReLU(),\n",
    "                      nn.Linear(hidden_sizes[0], hidden_sizes[1]),\n",
    "                      nn.ReLU(),\n",
    "                      nn.Linear(hidden_sizes[1], output_size),\n",
    "                      nn.Softmax(dim=1))\n",
    "print(model)\n",
    "\n",
    "# Forward pass through the network and display output\n",
    "images, labels = next(iter(trainloader))\n",
    "images.resize_(images.shape[0], 1, 784)\n",
    "ps = model.forward(images[0, :])\n",
    "helper.view_classify(images[0].view(1, 28, 28), ps)"
   ]
  },
  {
   "cell_type": "markdown",
   "metadata": {},
   "source": [
    "Here our model is the same as before: 784 input units, a hidden layer with 128 units, ReLU activation, 64 unit hidden layer, another ReLU, then the output layer with 10 units, and the softmax output.\n",
    "\n",
    "The operations are available by passing in the appropriate index. For example, if you want to get first Linear operation and look at the weights, you'd use `model[0]`."
   ]
  },
  {
   "cell_type": "code",
   "execution_count": 30,
   "metadata": {
    "ExecuteTime": {
     "end_time": "2020-05-25T12:13:52.937329Z",
     "start_time": "2020-05-25T12:13:52.923366Z"
    }
   },
   "outputs": [
    {
     "name": "stdout",
     "output_type": "stream",
     "text": [
      "Linear(in_features=784, out_features=128, bias=True)\n"
     ]
    },
    {
     "data": {
      "text/plain": [
       "Parameter containing:\n",
       "tensor([[-0.0125,  0.0062,  0.0105,  ..., -0.0155,  0.0266,  0.0339],\n",
       "        [ 0.0317,  0.0019,  0.0213,  ...,  0.0121, -0.0016, -0.0323],\n",
       "        [ 0.0355, -0.0069, -0.0066,  ...,  0.0092, -0.0023,  0.0166],\n",
       "        ...,\n",
       "        [-0.0220, -0.0334, -0.0177,  ..., -0.0287,  0.0313,  0.0265],\n",
       "        [-0.0182, -0.0317,  0.0285,  ..., -0.0192,  0.0121, -0.0023],\n",
       "        [ 0.0080,  0.0230, -0.0237,  ..., -0.0001, -0.0292, -0.0242]],\n",
       "       requires_grad=True)"
      ]
     },
     "execution_count": 30,
     "metadata": {},
     "output_type": "execute_result"
    }
   ],
   "source": [
    "print(model[0])\n",
    "model[0].weight"
   ]
  },
  {
   "cell_type": "markdown",
   "metadata": {},
   "source": [
    "You can also pass in an `OrderedDict` to name the individual layers and operations, instead of using incremental integers. Note that dictionary keys must be unique, so _each operation must have a different name_."
   ]
  },
  {
   "cell_type": "code",
   "execution_count": 31,
   "metadata": {
    "ExecuteTime": {
     "end_time": "2020-05-25T12:13:53.109727Z",
     "start_time": "2020-05-25T12:13:52.939330Z"
    }
   },
   "outputs": [
    {
     "data": {
      "text/plain": [
       "Sequential(\n",
       "  (fc1): Linear(in_features=784, out_features=128, bias=True)\n",
       "  (relu1): ReLU()\n",
       "  (fc2): Linear(in_features=128, out_features=64, bias=True)\n",
       "  (relu2): ReLU()\n",
       "  (output): Linear(in_features=64, out_features=10, bias=True)\n",
       "  (softmax): Softmax(dim=1)\n",
       ")"
      ]
     },
     "execution_count": 31,
     "metadata": {},
     "output_type": "execute_result"
    }
   ],
   "source": [
    "from collections import OrderedDict\n",
    "model = nn.Sequential(OrderedDict([\n",
    "                      ('fc1', nn.Linear(input_size, hidden_sizes[0])),\n",
    "                      ('relu1', nn.ReLU()),\n",
    "                      ('fc2', nn.Linear(hidden_sizes[0], hidden_sizes[1])),\n",
    "                      ('relu2', nn.ReLU()),\n",
    "                      ('output', nn.Linear(hidden_sizes[1], output_size)),\n",
    "                      ('softmax', nn.Softmax(dim=1))]))\n",
    "model"
   ]
  },
  {
   "cell_type": "markdown",
   "metadata": {},
   "source": [
    "Now you can access layers either by integer or the name"
   ]
  },
  {
   "cell_type": "code",
   "execution_count": 32,
   "metadata": {
    "ExecuteTime": {
     "end_time": "2020-05-25T12:13:53.250880Z",
     "start_time": "2020-05-25T12:13:53.111787Z"
    }
   },
   "outputs": [
    {
     "name": "stdout",
     "output_type": "stream",
     "text": [
      "Linear(in_features=784, out_features=128, bias=True)\n",
      "Linear(in_features=784, out_features=128, bias=True)\n"
     ]
    }
   ],
   "source": [
    "print(model[0])\n",
    "print(model.fc1)"
   ]
  },
  {
   "cell_type": "markdown",
   "metadata": {},
   "source": [
    "In the next notebook, we'll see how we can train a neural network to accuractly predict the numbers appearing in the MNIST images."
   ]
  }
 ],
 "metadata": {
  "kernelspec": {
   "display_name": "Python 3",
   "language": "python",
   "name": "python3"
  },
  "language_info": {
   "codemirror_mode": {
    "name": "ipython",
    "version": 3
   },
   "file_extension": ".py",
   "mimetype": "text/x-python",
   "name": "python",
   "nbconvert_exporter": "python",
   "pygments_lexer": "ipython3",
   "version": "3.8.5"
  },
  "toc": {
   "base_numbering": 1,
   "nav_menu": {},
   "number_sections": true,
   "sideBar": true,
   "skip_h1_title": false,
   "title_cell": "Table of Contents",
   "title_sidebar": "Contents",
   "toc_cell": false,
   "toc_position": {},
   "toc_section_display": true,
   "toc_window_display": false
  },
  "varInspector": {
   "cols": {
    "lenName": 16,
    "lenType": 16,
    "lenVar": 40
   },
   "kernels_config": {
    "python": {
     "delete_cmd_postfix": "",
     "delete_cmd_prefix": "del ",
     "library": "var_list.py",
     "varRefreshCmd": "print(var_dic_list())"
    },
    "r": {
     "delete_cmd_postfix": ") ",
     "delete_cmd_prefix": "rm(",
     "library": "var_list.r",
     "varRefreshCmd": "cat(var_dic_list()) "
    }
   },
   "types_to_exclude": [
    "module",
    "function",
    "builtin_function_or_method",
    "instance",
    "_Feature"
   ],
   "window_display": false
  }
 },
 "nbformat": 4,
 "nbformat_minor": 4
}
